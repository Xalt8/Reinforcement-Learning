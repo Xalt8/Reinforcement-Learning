{
 "cells": [
  {
   "cell_type": "code",
   "execution_count": 2,
   "metadata": {},
   "outputs": [],
   "source": [
    "import numpy as np\n",
    "import matplotlib.pyplot as plt\n",
    "import random"
   ]
  },
  {
   "cell_type": "markdown",
   "metadata": {},
   "source": [
    "Source: \n",
    "* https://gist.github.com/karpathy/77fbb6a8dac5395f1b73e7a89300318d\n",
    "* https://openai.com/blog/evolution-strategies/\n",
    "* https://github.com/karpathy/randomfun/blob/master/es.ipynb"
   ]
  },
  {
   "cell_type": "code",
   "execution_count": 2,
   "metadata": {},
   "outputs": [],
   "source": [
    "def f(w):\n",
    "    ''' Function we want to optimize'''\n",
    "    reward = -np.sum(np.square(solution - w))\n",
    "    return reward"
   ]
  },
  {
   "cell_type": "code",
   "execution_count": 3,
   "metadata": {},
   "outputs": [],
   "source": [
    "# hyperparameters\n",
    "npop = 50 # population size\n",
    "sigma = 0.1 # noise standard deviation\n",
    "alpha = 0.001 # learning rate"
   ]
  },
  {
   "cell_type": "code",
   "execution_count": 4,
   "metadata": {},
   "outputs": [],
   "source": [
    "solution = np.array([0.5, 0.1, -0.3])"
   ]
  },
  {
   "cell_type": "code",
   "execution_count": 5,
   "metadata": {},
   "outputs": [
    {
     "data": {
      "text/plain": [
       "array([0.21903737, 1.58495806, 1.16476673])"
      ]
     },
     "execution_count": 5,
     "metadata": {},
     "output_type": "execute_result"
    }
   ],
   "source": [
    "w = np.random.randn(3) # our initial guess is random\n",
    "w"
   ]
  },
  {
   "cell_type": "code",
   "execution_count": 108,
   "metadata": {},
   "outputs": [
    {
     "name": "stdout",
     "output_type": "stream",
     "text": [
      "iter 0. w: [ 0.49488302  0.10967936 -0.2939929 ], solution: [ 0.5  0.1 -0.3], reward: -0.000156\n",
      "iter 20. w: [ 0.49505681  0.10927343 -0.29262318], solution: [ 0.5  0.1 -0.3], reward: -0.000165\n",
      "iter 40. w: [ 0.4919457   0.11178502 -0.29328507], solution: [ 0.5  0.1 -0.3], reward: -0.000249\n",
      "iter 60. w: [ 0.49272462  0.11263256 -0.29326337], solution: [ 0.5  0.1 -0.3], reward: -0.000258\n",
      "iter 80. w: [ 0.49457307  0.11118858 -0.2922606 ], solution: [ 0.5  0.1 -0.3], reward: -0.000215\n",
      "iter 100. w: [ 0.49509151  0.1097203  -0.2916546 ], solution: [ 0.5  0.1 -0.3], reward: -0.000188\n",
      "iter 120. w: [ 0.49512194  0.1123768  -0.29489021], solution: [ 0.5  0.1 -0.3], reward: -0.000203\n",
      "iter 140. w: [ 0.49359941  0.11036903 -0.29391885], solution: [ 0.5  0.1 -0.3], reward: -0.000185\n",
      "iter 160. w: [ 0.49769932  0.10988486 -0.29412631], solution: [ 0.5  0.1 -0.3], reward: -0.000138\n",
      "iter 180. w: [ 0.5002838   0.10934419 -0.29609952], solution: [ 0.5  0.1 -0.3], reward: -0.000103\n",
      "iter 200. w: [ 0.49689247  0.10668698 -0.2963691 ], solution: [ 0.5  0.1 -0.3], reward: -0.000068\n",
      "iter 220. w: [ 0.49584806  0.10668735 -0.29545637], solution: [ 0.5  0.1 -0.3], reward: -0.000083\n",
      "iter 240. w: [ 0.49595732  0.10913143 -0.29635447], solution: [ 0.5  0.1 -0.3], reward: -0.000113\n",
      "iter 260. w: [ 0.49756248  0.10834042 -0.29519305], solution: [ 0.5  0.1 -0.3], reward: -0.000099\n",
      "iter 280. w: [ 0.49728337  0.11153095 -0.29531775], solution: [ 0.5  0.1 -0.3], reward: -0.000162\n"
     ]
    }
   ],
   "source": [
    "for i in range(300):\n",
    "\n",
    "  # print current fitness of the most likely parameter setting\n",
    "  if i % 20 == 0:\n",
    "    print('iter %d. w: %s, solution: %s, reward: %f' % \n",
    "          (i, str(w), str(solution), f(w)))\n",
    "\n",
    "  # initialize memory for a population of w's, and their rewards\n",
    "  N = np.random.randn(npop, 3) # samples from a normal distribution N(0,1)\n",
    "  R = np.zeros(npop)\n",
    "  for j in range(npop):\n",
    "    w_try = w + sigma*N[j] # jitter w using gaussian of sigma 0.1\n",
    "    R[j] = f(w_try) # evaluate the jittered version\n",
    "\n",
    "  # standardize the rewards to have a gaussian distribution\n",
    "  A = (R - np.mean(R)) / np.std(R)\n",
    "  # perform the parameter update. The matrix multiply below\n",
    "  # is just an efficient way to sum up all the rows of the noise matrix N,\n",
    "  # where each row N[j] is weighted by A[j]\n",
    "  w = w + alpha/(npop*sigma) * np.dot(N.T, A)"
   ]
  },
  {
   "cell_type": "code",
   "execution_count": 109,
   "metadata": {},
   "outputs": [
    {
     "data": {
      "text/plain": [
       "array([-2.44277878, -0.70884434,  0.02404761, -0.66211551,  0.63253537,\n",
       "        0.04860538,  0.41239431,  0.92808226,  1.10139002,  0.66668367])"
      ]
     },
     "execution_count": 109,
     "metadata": {},
     "output_type": "execute_result"
    }
   ],
   "source": []
  },
  {
   "cell_type": "markdown",
   "metadata": {},
   "source": [
    "Try with 2 dimensions"
   ]
  },
  {
   "cell_type": "code",
   "execution_count": 7,
   "metadata": {},
   "outputs": [],
   "source": [
    "global_max = np.array([3,2])"
   ]
  },
  {
   "cell_type": "code",
   "execution_count": 8,
   "metadata": {},
   "outputs": [],
   "source": [
    "def get_reward(global_max, position)-> float:\n",
    "    return np.sum(np.square(global_max - position))"
   ]
  },
  {
   "cell_type": "code",
   "execution_count": 9,
   "metadata": {},
   "outputs": [
    {
     "data": {
      "text/plain": [
       "array([0.81067321, 0.18750091])"
      ]
     },
     "execution_count": 9,
     "metadata": {},
     "output_type": "execute_result"
    }
   ],
   "source": [
    "initial_pos = np.random.uniform(0,10,2)\n",
    "initial_pos"
   ]
  },
  {
   "cell_type": "code",
   "execution_count": 10,
   "metadata": {},
   "outputs": [
    {
     "data": {
      "text/plain": [
       "8.078304722753785"
      ]
     },
     "execution_count": 10,
     "metadata": {},
     "output_type": "execute_result"
    }
   ],
   "source": [
    "get_reward(global_max, initial_pos)"
   ]
  },
  {
   "cell_type": "code",
   "execution_count": 11,
   "metadata": {},
   "outputs": [],
   "source": [
    "pop = 10\n",
    "sig = 0.1 # noise standard deviation\n",
    "al = 0.001 # learning rate"
   ]
  },
  {
   "cell_type": "code",
   "execution_count": 12,
   "metadata": {},
   "outputs": [
    {
     "data": {
      "text/plain": [
       "array([[8.26439145, 0.49071592],\n",
       "       [4.89664033, 8.03210975],\n",
       "       [9.048935  , 4.36914756],\n",
       "       [7.0146537 , 1.81266399],\n",
       "       [5.94068701, 7.84038939],\n",
       "       [4.9800189 , 0.94938025],\n",
       "       [1.4364837 , 3.12052728],\n",
       "       [4.01127681, 9.58392772],\n",
       "       [8.58570323, 6.19352172],\n",
       "       [3.63166687, 6.11591468]])"
      ]
     },
     "execution_count": 12,
     "metadata": {},
     "output_type": "execute_result"
    }
   ],
   "source": [
    "_N = np.array([np.random.uniform(0,10,2) for _ in range(pop)])\n",
    "_N"
   ]
  },
  {
   "cell_type": "code",
   "execution_count": 13,
   "metadata": {},
   "outputs": [
    {
     "data": {
      "text/plain": [
       "array([0., 0., 0., 0., 0., 0., 0., 0., 0., 0.])"
      ]
     },
     "execution_count": 13,
     "metadata": {},
     "output_type": "execute_result"
    }
   ],
   "source": [
    "rewards = np.zeros(pop)\n",
    "rewards"
   ]
  },
  {
   "cell_type": "code",
   "execution_count": 14,
   "metadata": {},
   "outputs": [
    {
     "data": {
      "text/plain": [
       "(array([8.26439145, 0.49071592]),\n",
       " array([0.82643914, 0.04907159]),\n",
       " array([1.63711236, 0.2365725 ]))"
      ]
     },
     "execution_count": 14,
     "metadata": {},
     "output_type": "execute_result"
    }
   ],
   "source": [
    "_N[0], sig * _N[0], initial_pos+(sig * _N[0]) "
   ]
  },
  {
   "cell_type": "code",
   "execution_count": 15,
   "metadata": {},
   "outputs": [
    {
     "data": {
      "text/plain": [
       "array([[1.63711236, 0.2365725 ],\n",
       "       [1.30033725, 0.99071189],\n",
       "       [1.71556671, 0.62441567],\n",
       "       [1.51213858, 0.36876731],\n",
       "       [1.40474192, 0.97153985],\n",
       "       [1.3086751 , 0.28243894],\n",
       "       [0.95432158, 0.49955364],\n",
       "       [1.2118009 , 1.14589368],\n",
       "       [1.66924354, 0.80685308],\n",
       "       [1.1738399 , 0.79909238]])"
      ]
     },
     "execution_count": 15,
     "metadata": {},
     "output_type": "execute_result"
    }
   ],
   "source": [
    "jittered_pos = np.array([initial_pos + (sig * n) for n in _N])\n",
    "jittered_pos"
   ]
  },
  {
   "cell_type": "code",
   "execution_count": 16,
   "metadata": {},
   "outputs": [],
   "source": [
    "for i, jit_pos in enumerate(jittered_pos):\n",
    "    rewards[i] = get_reward(global_max, jit_pos)"
   ]
  },
  {
   "cell_type": "code",
   "execution_count": 17,
   "metadata": {},
   "outputs": [
    {
     "data": {
      "text/plain": [
       "array([4.96713926, 3.90751597, 3.54200112, 4.87465168, 3.60257864,\n",
       "       5.81059591, 6.43613946, 3.92715364, 3.19451233, 4.77703982])"
      ]
     },
     "execution_count": 17,
     "metadata": {},
     "output_type": "execute_result"
    }
   ],
   "source": [
    "rewards"
   ]
  },
  {
   "cell_type": "code",
   "execution_count": 18,
   "metadata": {},
   "outputs": [
    {
     "data": {
      "text/plain": [
       "array([ 0.46301917, -0.59617564, -0.96154268,  0.37056899, -0.90098967,\n",
       "        1.30613475,  1.93142535, -0.57654591, -1.30889096,  0.2729966 ])"
      ]
     },
     "execution_count": 18,
     "metadata": {},
     "output_type": "execute_result"
    }
   ],
   "source": [
    "# standardize the rewards to have a gaussian distribution\n",
    "#   A = (R - np.mean(R)) / np.std(R)\n",
    "standard_rewards = (rewards-np.mean(rewards))/np.std(rewards)\n",
    "standard_rewards"
   ]
  },
  {
   "cell_type": "code",
   "execution_count": 19,
   "metadata": {},
   "outputs": [
    {
     "data": {
      "text/plain": [
       "0.001"
      ]
     },
     "execution_count": 19,
     "metadata": {},
     "output_type": "execute_result"
    }
   ],
   "source": [
    "# perform the parameter update. The matrix multiply below\n",
    "# is just an efficient way to sum up all the rows of the noise matrix N,\n",
    "# where each row N[j] is weighted by A[j]\n",
    "#   w = w + alpha/(npop*sigma) * np.dot(N.T, A)\n",
    "\n",
    "al/(pop * sig)"
   ]
  },
  {
   "cell_type": "code",
   "execution_count": 20,
   "metadata": {},
   "outputs": [
    {
     "data": {
      "text/plain": [
       "array([0.79684654, 0.16765055])"
      ]
     },
     "execution_count": 20,
     "metadata": {},
     "output_type": "execute_result"
    }
   ],
   "source": [
    "new_pos = initial_pos + al/(pop * sig) * np.dot(_N.T, standard_rewards)\n",
    "new_pos"
   ]
  },
  {
   "cell_type": "code",
   "execution_count": 21,
   "metadata": {},
   "outputs": [
    {
     "data": {
      "text/plain": [
       "(8.078304722753785, 8.211389676343256)"
      ]
     },
     "execution_count": 21,
     "metadata": {},
     "output_type": "execute_result"
    }
   ],
   "source": [
    "get_reward(global_max, initial_pos), get_reward(global_max, new_pos)"
   ]
  },
  {
   "cell_type": "code",
   "execution_count": 22,
   "metadata": {},
   "outputs": [
    {
     "data": {
      "text/plain": [
       "(array([3, 2]),\n",
       " array([0.81067321, 0.18750091]),\n",
       " array([0.79684654, 0.16765055]))"
      ]
     },
     "execution_count": 22,
     "metadata": {},
     "output_type": "execute_result"
    }
   ],
   "source": [
    "global_max, initial_pos, new_pos"
   ]
  },
  {
   "cell_type": "code",
   "execution_count": 48,
   "metadata": {},
   "outputs": [],
   "source": [
    "# Not used\n",
    "def get_neighbours(index:tuple, neighbourhood:str) -> list[tuple]:\n",
    "    ''' Source: https://fastlife.readthedocs.io/en/latest/notes/neighborhoods.html '''\n",
    "    # goal = 5,5\n",
    "    assert neighbourhood == 'von_neumann' or neighbourhood == 'moore', \"neighbourhood should be 'von_neumann' or 'moore'\"  \n",
    "\n",
    "    index_offset = {'von_neumann': [(-1,0), (0,1), (1,0),(0,-1)],\n",
    "                    'moore': [(-1,0), (-1,1), (0,1), (1,1), (1,0), (1, -1), (0,-1), (-1,-1)]} \n",
    "\n",
    "    indices = [(index[0] + row, index[1] + col) for row, col in index_offset[neighbourhood]]\n",
    "    return indices"
   ]
  },
  {
   "cell_type": "code",
   "execution_count": 49,
   "metadata": {},
   "outputs": [
    {
     "data": {
      "text/plain": [
       "[(4, 5), (4, 6), (5, 6), (6, 6), (6, 5), (6, 4), (5, 4), (4, 4)]"
      ]
     },
     "execution_count": 49,
     "metadata": {},
     "output_type": "execute_result"
    }
   ],
   "source": [
    "get_neighbours(index=(5,5), neighbourhood='moore')"
   ]
  },
  {
   "cell_type": "code",
   "execution_count": 54,
   "metadata": {},
   "outputs": [],
   "source": [
    "def wavefront(index:tuple, matrix:np.ndarray)-> np.ndarray:\n",
    "    ''' Uses Depth First approach to make an array with values that that concentrically \n",
    "        increase from a given index tuple'''\n",
    "\n",
    "    assert index[0] < matrix.shape[0] and index[1] < matrix.shape[1], f\"The index values need to be <= {matrix.shape}\"\n",
    "    \n",
    "    zero_mat = np.zeros(matrix.shape)\n",
    "    unvisited = [(row, col) for row in np.arange(matrix.shape[0]) for col in np.arange(matrix.shape[1])] \n",
    "    \n",
    "    offset_1 = 1 # Get 1 less than the index value\n",
    "    offset_2 = 2 # Get 1 more than the index value\n",
    "    val = 1\n",
    "\n",
    "    while unvisited:\n",
    "        for row in range(index[0] - offset_1, index[0] + offset_2):\n",
    "            for col in range(index[1] - offset_1, index[1] + offset_2):\n",
    "                if 0 <= row < matrix.shape[0] \\\n",
    "                    and 0 <= col <matrix.shape[1] \\\n",
    "                    and (row, col) in unvisited:\n",
    "                    zero_mat[row][col] = val\n",
    "                    unvisited.remove((row, col))\n",
    "        offset_1 += 1\n",
    "        offset_2 += 1\n",
    "        val += 1\n",
    "\n",
    "    zero_mat[index] = 0 # Set the index to zero\n",
    "    return zero_mat"
   ]
  },
  {
   "cell_type": "code",
   "execution_count": 57,
   "metadata": {},
   "outputs": [
    {
     "data": {
      "image/png": "[encoded data removed]",
      "text/plain": [
       "<Figure size 432x288 with 1 Axes>"
      ]
     },
     "metadata": {
      "needs_background": "light"
     },
     "output_type": "display_data"
    }
   ],
   "source": [
    "m = wavefront(index=(5,5), matrix=np.arange(900).reshape(30,30))\n",
    "fig, ax = plt.subplots()\n",
    "im = ax.imshow(m, cmap='YlOrRd')"
   ]
  },
  {
   "cell_type": "code",
   "execution_count": 61,
   "metadata": {},
   "outputs": [
    {
     "data": {
      "text/plain": [
       "array([[5., 5., 5., 5., 5., 5., 5., 5., 5., 5., 5., 6., 7., 8., 9.],\n",
       "       [5., 4., 4., 4., 4., 4., 4., 4., 4., 4., 5., 6., 7., 8., 9.],\n",
       "       [5., 4., 3., 3., 3., 3., 3., 3., 3., 4., 5., 6., 7., 8., 9.],\n",
       "       [5., 4., 3., 2., 2., 2., 2., 2., 3., 4., 5., 6., 7., 8., 9.],\n",
       "       [5., 4., 3., 2., 1., 1., 1., 2., 3., 4., 5., 6., 7., 8., 9.],\n",
       "       [5., 4., 3., 2., 1., 0., 1., 2., 3., 4., 5., 6., 7., 8., 9.],\n",
       "       [5., 4., 3., 2., 1., 1., 1., 2., 3., 4., 5., 6., 7., 8., 9.],\n",
       "       [5., 4., 3., 2., 2., 2., 2., 2., 3., 4., 5., 6., 7., 8., 9.],\n",
       "       [5., 4., 3., 3., 3., 3., 3., 3., 3., 4., 5., 6., 7., 8., 9.],\n",
       "       [5., 4., 4., 4., 4., 4., 4., 4., 4., 4., 5., 6., 7., 8., 9.],\n",
       "       [5., 5., 5., 5., 5., 5., 5., 5., 5., 5., 5., 6., 7., 8., 9.],\n",
       "       [6., 6., 6., 6., 6., 6., 6., 6., 6., 6., 6., 6., 7., 8., 9.],\n",
       "       [7., 7., 7., 7., 7., 7., 7., 7., 7., 7., 7., 7., 7., 8., 9.],\n",
       "       [8., 8., 8., 8., 8., 8., 8., 8., 8., 8., 8., 8., 8., 8., 9.],\n",
       "       [9., 9., 9., 9., 9., 9., 9., 9., 9., 9., 9., 9., 9., 9., 9.]])"
      ]
     },
     "execution_count": 61,
     "metadata": {},
     "output_type": "execute_result"
    }
   ],
   "source": [
    "m = wavefront(index=(5,5), matrix=np.arange(225).reshape(15,15))\n",
    "m"
   ]
  },
  {
   "cell_type": "code",
   "execution_count": 117,
   "metadata": {},
   "outputs": [
    {
     "data": {
      "text/plain": [
       "array([[25.84229681, 25.74859026],\n",
       "       [25.18457937, 23.73553171],\n",
       "       [24.45171361, 25.24879283],\n",
       "       [25.46790166, 25.96422737],\n",
       "       [26.15413211, 25.19628818],\n",
       "       [24.42125247, 27.22589072],\n",
       "       [25.58502356, 25.60030329],\n",
       "       [24.78635844, 23.23094316],\n",
       "       [26.62858467, 23.11860604],\n",
       "       [24.67525038, 25.81613249]])"
      ]
     },
     "execution_count": 117,
     "metadata": {},
     "output_type": "execute_result"
    }
   ],
   "source": [
    "npop = 10 # population size\n",
    "sigma = 1 # noise standard deviation\n",
    "alpha = 0.001 # learning rate\n",
    "\n",
    "goal = np.array([5,5])\n",
    "start_pos = np.array([25,25])\n",
    "\n",
    "\n",
    "pop = np.random.randn(npop, start_pos.size)\n",
    "jittered_pop = np.array([start_pos + sigma * p for p in pop])\n",
    "jittered_pop    "
   ]
  },
  {
   "cell_type": "code",
   "execution_count": 101,
   "metadata": {},
   "outputs": [],
   "source": [
    "def calc_reward(goal:tuple, position:tuple) -> float:\n",
    "    # return np.linalg.norm(np.asarray(goal) - np.asarray(position))\n",
    "    return -np.sum(np.square(np.asarray(goal) - np.asarray(position)))"
   ]
  },
  {
   "cell_type": "code",
   "execution_count": 102,
   "metadata": {},
   "outputs": [
    {
     "data": {
      "text/plain": [
       "-41"
      ]
     },
     "execution_count": 102,
     "metadata": {},
     "output_type": "execute_result"
    }
   ],
   "source": [
    "calc_reward(goal=(5,5), position=(0,1))"
   ]
  },
  {
   "cell_type": "code",
   "execution_count": 111,
   "metadata": {},
   "outputs": [
    {
     "data": {
      "text/plain": [
       "array([-728.20272156, -768.5245714 , -798.11532594, -798.95906283,\n",
       "       -775.7259531 , -773.46015137, -698.96280889, -825.11201882,\n",
       "       -807.18357065, -761.98506919])"
      ]
     },
     "execution_count": 111,
     "metadata": {},
     "output_type": "execute_result"
    }
   ],
   "source": [
    "# R[j] = f(w_try) # evaluate the jittered version\n",
    "\n",
    "rewards_array = np.array([calc_reward(goal=goal, position=jit) for jit in jittered_pop])\n",
    "rewards_array"
   ]
  },
  {
   "cell_type": "code",
   "execution_count": 116,
   "metadata": {},
   "outputs": [
    {
     "data": {
      "text/plain": [
       "array([ 1.26843685,  0.14238521, -0.68398356, -0.70754626, -0.0587248 ,\n",
       "        0.00455131,  2.08500781, -1.43790905, -0.93722869,  0.32501119])"
      ]
     },
     "execution_count": 116,
     "metadata": {},
     "output_type": "execute_result"
    }
   ],
   "source": [
    "# standardize the rewards to have a gaussian distribution\n",
    "# A = (R - np.mean(R)) / np.std(R)\n",
    "std_rewards = (rewards_array - np.mean(rewards_array))/np.std(rewards_array)\n",
    "std_rewards"
   ]
  },
  {
   "cell_type": "code",
   "execution_count": 159,
   "metadata": {},
   "outputs": [
    {
     "data": {
      "text/plain": [
       "array([25.00009633, 25.00057396])"
      ]
     },
     "execution_count": 159,
     "metadata": {},
     "output_type": "execute_result"
    }
   ],
   "source": [
    "# perform the parameter update. The matrix multiply below\n",
    "# is just an efficient way to sum up all the rows of the noise matrix N,\n",
    "# where each row N[j] is weighted by A[j]\n",
    "\n",
    "new_pos = start_pos + alpha/(npop*sigma) * np.dot(jittered_pop.T, std_rewards)\n",
    "new_pos"
   ]
  },
  {
   "cell_type": "code",
   "execution_count": null,
   "metadata": {},
   "outputs": [],
   "source": []
  },
  {
   "cell_type": "code",
   "execution_count": 161,
   "metadata": {},
   "outputs": [
    {
     "data": {
      "image/png": "[encoded data removed]",
      "text/plain": [
       "<Figure size 432x288 with 1 Axes>"
      ]
     },
     "metadata": {
      "needs_background": "light"
     },
     "output_type": "display_data"
    }
   ],
   "source": [
    "fig, ax = plt.subplots()\n",
    "im = ax.imshow(mat, cmap='YlOrRd')\n",
    "for jit in jittered_pop:\n",
    "    ax.scatter(x=jit[0], y = jit[1], c='blue', edgecolors='black')\n",
    "\n",
    "ax.scatter(*new_pos, c='green', edgecolors='white')\n",
    "\n",
    "fig.tight_layout()\n",
    "plt.show()"
   ]
  },
  {
   "cell_type": "code",
   "execution_count": 44,
   "metadata": {},
   "outputs": [],
   "source": [
    "from matplotlib.animation import FuncAnimation\n",
    "from itertools import count\n",
    "# from IPython.display import HTML"
   ]
  },
  {
   "cell_type": "code",
   "execution_count": null,
   "metadata": {},
   "outputs": [],
   "source": [
    "x_vals = []\n",
    "y_vals = []\n",
    "\n",
    "index = count()\n",
    "\n",
    "def animate(i):\n",
    "    x_vals.append(next(index))\n",
    "    y_vals.append(random.randint(0,5))\n",
    "\n",
    "    plt.cla()\n",
    "    plt.scatter(x_vals, y_vals)\n",
    "\n",
    "anim = FuncAnimation(plt.gcf(), animate, interval=1000)\n",
    "\n",
    "plt.tight_layout()\n",
    "plt.show()\n",
    "\n"
   ]
  },
  {
   "cell_type": "code",
   "execution_count": 1,
   "metadata": {},
   "outputs": [],
   "source": []
  },
  {
   "cell_type": "code",
   "execution_count": 4,
   "metadata": {},
   "outputs": [],
   "source": [
    "arr = np.array([[25.84229681, 25.74859026],\n",
    "       [25.18457937, 23.73553171],\n",
    "       [24.45171361, 25.24879283],\n",
    "       [25.46790166, 25.96422737],\n",
    "       [26.15413211, 25.19628818],\n",
    "       [24.42125247, 27.22589072],\n",
    "       [25.58502356, 25.60030329],\n",
    "       [24.78635844, 23.23094316],\n",
    "       [26.62858467, 23.11860604],\n",
    "       [24.67525038, 25.81613249]])"
   ]
  },
  {
   "cell_type": "code",
   "execution_count": 14,
   "metadata": {},
   "outputs": [
    {
     "data": {
      "text/plain": [
       "(10, 2)"
      ]
     },
     "execution_count": 14,
     "metadata": {},
     "output_type": "execute_result"
    }
   ],
   "source": [
    "arr.shape"
   ]
  },
  {
   "cell_type": "code",
   "execution_count": 16,
   "metadata": {},
   "outputs": [
    {
     "data": {
      "text/plain": [
       "array([25.84229681, 25.18457937, 24.45171361, 25.46790166, 26.15413211,\n",
       "       24.42125247, 25.58502356, 24.78635844, 26.62858467, 24.67525038])"
      ]
     },
     "execution_count": 16,
     "metadata": {},
     "output_type": "execute_result"
    }
   ],
   "source": [
    "arr[:,0]"
   ]
  },
  {
   "cell_type": "code",
   "execution_count": 8,
   "metadata": {},
   "outputs": [],
   "source": [
    "import pandas as pd"
   ]
  },
  {
   "cell_type": "code",
   "execution_count": 51,
   "metadata": {},
   "outputs": [],
   "source": [
    "df = pd.DataFrame(columns=['Iteration','x','y'], index=range(5))"
   ]
  },
  {
   "cell_type": "code",
   "execution_count": 52,
   "metadata": {},
   "outputs": [],
   "source": []
  },
  {
   "cell_type": "code",
   "execution_count": 53,
   "metadata": {},
   "outputs": [
    {
     "data": {
      "text/html": [
       "<div>\n",
       "<style scoped>\n",
       "    .dataframe tbody tr th:only-of-type {\n",
       "        vertical-align: middle;\n",
       "    }\n",
       "\n",
       "    .dataframe tbody tr th {\n",
       "        vertical-align: top;\n",
       "    }\n",
       "\n",
       "    .dataframe thead th {\n",
       "        text-align: right;\n",
       "    }\n",
       "</style>\n",
       "<table border=\"1\" class=\"dataframe\">\n",
       "  <thead>\n",
       "    <tr style=\"text-align: right;\">\n",
       "      <th></th>\n",
       "      <th>Iteration</th>\n",
       "      <th>x</th>\n",
       "      <th>y</th>\n",
       "    </tr>\n",
       "  </thead>\n",
       "  <tbody>\n",
       "    <tr>\n",
       "      <th>0</th>\n",
       "      <td>0</td>\n",
       "      <td>[25.84229681, 25.18457937, 24.45171361, 25.467...</td>\n",
       "      <td>[25.74859026, 23.73553171, 25.24879283, 25.964...</td>\n",
       "    </tr>\n",
       "    <tr>\n",
       "      <th>1</th>\n",
       "      <td>1</td>\n",
       "      <td>[25.84229681, 25.18457937, 24.45171361, 25.467...</td>\n",
       "      <td>[25.74859026, 23.73553171, 25.24879283, 25.964...</td>\n",
       "    </tr>\n",
       "    <tr>\n",
       "      <th>2</th>\n",
       "      <td>2</td>\n",
       "      <td>[25.84229681, 25.18457937, 24.45171361, 25.467...</td>\n",
       "      <td>[25.74859026, 23.73553171, 25.24879283, 25.964...</td>\n",
       "    </tr>\n",
       "    <tr>\n",
       "      <th>3</th>\n",
       "      <td>3</td>\n",
       "      <td>[25.84229681, 25.18457937, 24.45171361, 25.467...</td>\n",
       "      <td>[25.74859026, 23.73553171, 25.24879283, 25.964...</td>\n",
       "    </tr>\n",
       "    <tr>\n",
       "      <th>4</th>\n",
       "      <td>4</td>\n",
       "      <td>[25.84229681, 25.18457937, 24.45171361, 25.467...</td>\n",
       "      <td>[25.74859026, 23.73553171, 25.24879283, 25.964...</td>\n",
       "    </tr>\n",
       "  </tbody>\n",
       "</table>\n",
       "</div>"
      ],
      "text/plain": [
       "  Iteration                                                  x  \\\n",
       "0         0  [25.84229681, 25.18457937, 24.45171361, 25.467...   \n",
       "1         1  [25.84229681, 25.18457937, 24.45171361, 25.467...   \n",
       "2         2  [25.84229681, 25.18457937, 24.45171361, 25.467...   \n",
       "3         3  [25.84229681, 25.18457937, 24.45171361, 25.467...   \n",
       "4         4  [25.84229681, 25.18457937, 24.45171361, 25.467...   \n",
       "\n",
       "                                                   y  \n",
       "0  [25.74859026, 23.73553171, 25.24879283, 25.964...  \n",
       "1  [25.74859026, 23.73553171, 25.24879283, 25.964...  \n",
       "2  [25.74859026, 23.73553171, 25.24879283, 25.964...  \n",
       "3  [25.74859026, 23.73553171, 25.24879283, 25.964...  \n",
       "4  [25.74859026, 23.73553171, 25.24879283, 25.964...  "
      ]
     },
     "execution_count": 53,
     "metadata": {},
     "output_type": "execute_result"
    }
   ],
   "source": [
    "df"
   ]
  },
  {
   "cell_type": "code",
   "execution_count": 123,
   "metadata": {},
   "outputs": [],
   "source": [
    "def calc_distance(goal:np.ndarray, position:np.ndarray) -> float:\n",
    "    return np.sqrt((goal[0] - position[0])**2 + (goal[1] - position[1])**2 )"
   ]
  },
  {
   "cell_type": "code",
   "execution_count": 124,
   "metadata": {},
   "outputs": [],
   "source": [
    "def set_constricted_velocity():\n",
    "    c1 = 2.05\n",
    "    c2 = 2.05\n",
    "    ep = c1+c2\n",
    "    X = 2/(abs(2-ep-np.sqrt((ep**2)-4*ep)))\n",
    "    \n",
    "    cognitive = (c1 * np.random.uniform(0, 1, dims)*(particle['pbest_pos'] - particle['position']))\n",
    "    informers = (c2 * np.random.uniform(0, 1, dims)*(particle['lbest_pos'] - particle['position']))\n",
    "    new_velocity = X*(particle['velocity'] + cognitive + informers)\n",
    "    particle['velocity'] = new_velocity"
   ]
  },
  {
   "cell_type": "code",
   "execution_count": 87,
   "metadata": {},
   "outputs": [],
   "source": [
    "def pso() -> tuple:\n",
    "    goal = np.array([5,5])\n",
    "    num_particles = 20\n",
    "    dims = 2\n",
    "    particles = np.random.uniform(low=0, high=30, size=(num_particles, dims))\n",
    "    informant_indicies = np.array([np.take(np.arange(num_particles),(i-1, i+1), mode='wrap') for i in np.arange(num_particles)])\n",
    "    pbest_pos = np.empty(particles.shape)\n",
    "    pbest_val = np.ones(num_particles) * np.inf\n",
    "    lbest_val = np.ones(num_particles) * np.inf\n",
    "    lbest_pos = np.empty(particles.shape)\n",
    "    gbest_val = np.inf\n",
    "    gbest_pos = np.ones(goal.shape) * np.inf\n",
    "    gbest_particle_index = None\n",
    "\n",
    "    # Main loop\n",
    "    fitness = np.array([calc_distance(goal=goal,  position=particle) for particle in particles])\n",
    "    # set pbest_val\n",
    "    pbest_val = np.where(fitness < pbest_val, fitness, pbest_val)\n",
    "    # Set pbest_pos\n",
    "    np.put(pbest_pos, np.where(fitness < pbest_val)[0], particles)\n",
    "    # Set lbest\n",
    "    for particle_index, informers in zip(np.arange(num_particles), informant_indicies):\n",
    "        # If informant's pbest_val > particle's lbest_val\n",
    "        if (pbest_val[informers[0]] < lbest_val[particle_index]) or \\\n",
    "            (pbest_val[informers[1]] < lbest_val[particle_index]):\n",
    "            # -> particle's lbest_val = informant's pbest_val\n",
    "            best_informer_index = informers[np.argmin(pbest_val[informers])]\n",
    "            lbest_val[particle_index] = pbest_val[best_informer_index]\n",
    "            lbest_pos[particle_index] = pbest_pos[best_informer_index]\n",
    "    # Set gbest\n",
    "    gbest_particle_index = np.argmin(fitness)\n",
    "    gbest_pos = particles[gbest_particle_index]\n",
    "    gbest_val = fitness[gbest_particle_index]        \n",
    "    \n",
    "    \n",
    "\n",
    "    return informant_indicies\n",
    "            \n",
    "\n",
    "    \n",
    "    "
   ]
  },
  {
   "cell_type": "code",
   "execution_count": 88,
   "metadata": {},
   "outputs": [
    {
     "data": {
      "text/plain": [
       "array([[19,  1],\n",
       "       [ 0,  2],\n",
       "       [ 1,  3],\n",
       "       [ 2,  4],\n",
       "       [ 3,  5],\n",
       "       [ 4,  6],\n",
       "       [ 5,  7],\n",
       "       [ 6,  8],\n",
       "       [ 7,  9],\n",
       "       [ 8, 10],\n",
       "       [ 9, 11],\n",
       "       [10, 12],\n",
       "       [11, 13],\n",
       "       [12, 14],\n",
       "       [13, 15],\n",
       "       [14, 16],\n",
       "       [15, 17],\n",
       "       [16, 18],\n",
       "       [17, 19],\n",
       "       [18,  0]])"
      ]
     },
     "execution_count": 88,
     "metadata": {},
     "output_type": "execute_result"
    }
   ],
   "source": [
    "pso()"
   ]
  },
  {
   "cell_type": "code",
   "execution_count": 46,
   "metadata": {},
   "outputs": [
    {
     "data": {
      "text/plain": [
       "2.1633530520309705"
      ]
     },
     "execution_count": 46,
     "metadata": {},
     "output_type": "execute_result"
    }
   ],
   "source": [
    "calc_distance(np.array([6.31063069, 6.72114602]), np.array([5,5]))"
   ]
  },
  {
   "cell_type": "code",
   "execution_count": 48,
   "metadata": {},
   "outputs": [
    {
     "data": {
      "text/plain": [
       "array([[25.25791723, 24.52755071],\n",
       "       [ 6.11024161,  9.59787723],\n",
       "       [28.98238442, 24.8697903 ],\n",
       "       [14.4151057 , 24.08254758],\n",
       "       [10.50367125, 17.06815461],\n",
       "       [28.1561452 , 24.99435049],\n",
       "       [19.94160948,  1.01880611],\n",
       "       [21.40140195, 22.03858221],\n",
       "       [ 9.1742276 ,  7.28627996],\n",
       "       [20.4254803 , 20.00153352],\n",
       "       [20.04141945,  0.42690186],\n",
       "       [11.62730261,  5.01892   ],\n",
       "       [ 5.75252879,  8.10488291],\n",
       "       [ 6.11757658, 27.47950631],\n",
       "       [10.17172847, 23.30901759],\n",
       "       [25.76017728,  2.56262943],\n",
       "       [28.1430658 ,  5.97941697],\n",
       "       [28.8060539 , 11.21817323],\n",
       "       [ 3.51418195, 13.17626604],\n",
       "       [ 0.77435761,  3.66240162]])"
      ]
     },
     "execution_count": 48,
     "metadata": {},
     "output_type": "execute_result"
    }
   ],
   "source": [
    "parts = np.random.uniform(low=0, high=30, size=(20, 2))\n",
    "parts"
   ]
  },
  {
   "cell_type": "code",
   "execution_count": 31,
   "metadata": {},
   "outputs": [],
   "source": [
    "fit = np.array([20.4950155 , 28.65251147, 24.14234269, 16.99274364,  9.79771521,\n",
    "       18.1759792 , 24.55855639, 24.45355296,  6.61459907, 28.66546622,\n",
    "        8.75243308, 26.20477608, 15.01744575, 14.63521315, 26.63335077,\n",
    "       31.3133635 , 21.20746319, 21.4050256 , 30.60094069, 22.87279168])"
   ]
  },
  {
   "cell_type": "code",
   "execution_count": 79,
   "metadata": {},
   "outputs": [
    {
     "data": {
      "text/plain": [
       "array([15.52002815, 13.039729  , 12.07417024, 16.70268253, 28.57970691,\n",
       "       32.35257397, 13.02596413, 14.87316226, 25.66886481, 23.27108829,\n",
       "       20.31792231, 25.03099249, 10.4059248 , 20.87568664,  8.90513222,\n",
       "        5.06949464, 10.31977383, 17.37688602, 11.97188606, 24.00551617])"
      ]
     },
     "execution_count": 79,
     "metadata": {},
     "output_type": "execute_result"
    }
   ],
   "source": [
    "pbest_val = np.array([15.52002815, 13.039729  , 12.07417024, 16.70268253, 28.57970691,\n",
    "       32.35257397, 13.02596413, 14.87316226, 25.66886481, 23.27108829,\n",
    "       20.31792231, 25.03099249, 10.4059248 , 20.87568664,  8.90513222,\n",
    "        5.06949464, 10.31977383, 17.37688602, 11.97188606, 24.00551617])\n",
    "pbest_val"
   ]
  },
  {
   "cell_type": "code",
   "execution_count": 81,
   "metadata": {},
   "outputs": [
    {
     "data": {
      "text/plain": [
       "array([20.4950155 , 28.65251147, 24.14234269, 16.99274364,  9.79771521,\n",
       "       18.1759792 , 24.55855639, 24.45355296,  6.61459907, 28.66546622,\n",
       "        8.75243308, 26.20477608, 15.01744575, 14.63521315, 26.63335077,\n",
       "       31.3133635 , 21.20746319, 21.4050256 , 30.60094069, 22.87279168])"
      ]
     },
     "execution_count": 81,
     "metadata": {},
     "output_type": "execute_result"
    }
   ],
   "source": [
    "lbest_val = np.array([20.4950155 , 28.65251147, 24.14234269, 16.99274364,  9.79771521,\n",
    "       18.1759792 , 24.55855639, 24.45355296,  6.61459907, 28.66546622,\n",
    "        8.75243308, 26.20477608, 15.01744575, 14.63521315, 26.63335077,\n",
    "       31.3133635 , 21.20746319, 21.4050256 , 30.60094069, 22.87279168])\n",
    "lbest_val"
   ]
  },
  {
   "cell_type": "code",
   "execution_count": 64,
   "metadata": {},
   "outputs": [],
   "source": [
    "informers= np.array([18, 19,  0])"
   ]
  },
  {
   "cell_type": "code",
   "execution_count": 82,
   "metadata": {},
   "outputs": [
    {
     "data": {
      "text/plain": [
       "array([11.97188606, 24.00551617, 15.52002815])"
      ]
     },
     "execution_count": 82,
     "metadata": {},
     "output_type": "execute_result"
    }
   ],
   "source": [
    "pbest_val[informers]"
   ]
  },
  {
   "cell_type": "code",
   "execution_count": 83,
   "metadata": {},
   "outputs": [
    {
     "name": "stdout",
     "output_type": "stream",
     "text": [
      "2\n"
     ]
    }
   ],
   "source": [
    "if pbest_val[informers[-1]] < pbest_val[informers[1]] or pbest_val[informers[0]] < pbest_val[informers[1]]:\n",
    "    print(np.argmin(fit[informers]))"
   ]
  },
  {
   "cell_type": "code",
   "execution_count": 90,
   "metadata": {},
   "outputs": [],
   "source": [
    "# If informant's pbest_val > particle's lbest_val\n",
    "# -> particle's lbest_val = informant's pbest_val\n",
    "# lbest_val[19] = pbest[2] \n",
    "# -> particles' lbest_pos = informants's pbest_pos\n",
    "# lbest_pos[19] = pbest_pos[2]"
   ]
  },
  {
   "cell_type": "code",
   "execution_count": 93,
   "metadata": {},
   "outputs": [],
   "source": [
    "inf_inds = np.array([[19,  1],\n",
    "       [ 0,  2],\n",
    "       [ 1,  3],\n",
    "       [ 2,  4],\n",
    "       [ 3,  5],\n",
    "       [ 4,  6],\n",
    "       [ 5,  7],\n",
    "       [ 6,  8],\n",
    "       [ 7,  9],\n",
    "       [ 8, 10],\n",
    "       [ 9, 11],\n",
    "       [10, 12],\n",
    "       [11, 13],\n",
    "       [12, 14],\n",
    "       [13, 15],\n",
    "       [14, 16],\n",
    "       [15, 17],\n",
    "       [16, 18],\n",
    "       [17, 19],\n",
    "       [18,  0]])"
   ]
  },
  {
   "cell_type": "code",
   "execution_count": 121,
   "metadata": {},
   "outputs": [
    {
     "name": "stdout",
     "output_type": "stream",
     "text": [
      "0 [19  1]\n",
      "informant:1\n",
      "1 [0 2]\n",
      "informant:2\n",
      "2 [1 3]\n",
      "informant:1\n",
      "3 [2 4]\n",
      "informant:2\n",
      "4 [3 5]\n",
      "Particle 4 is better\n",
      "5 [4 6]\n",
      "informant:6\n",
      "6 [5 7]\n",
      "informant:7\n",
      "7 [6 8]\n",
      "informant:6\n",
      "8 [7 9]\n",
      "Particle 8 is better\n",
      "9 [ 8 10]\n",
      "informant:10\n",
      "10 [ 9 11]\n",
      "Particle 10 is better\n",
      "11 [10 12]\n",
      "informant:12\n",
      "12 [11 13]\n",
      "Particle 12 is better\n",
      "13 [12 14]\n",
      "informant:14\n",
      "14 [13 15]\n",
      "informant:15\n",
      "15 [14 16]\n",
      "informant:14\n",
      "16 [15 17]\n",
      "informant:15\n",
      "17 [16 18]\n",
      "informant:16\n",
      "18 [17 19]\n",
      "informant:17\n",
      "19 [18  0]\n",
      "informant:18\n"
     ]
    }
   ],
   "source": [
    "for particle_index, (infs) in zip(np.arange(20), inf_inds):\n",
    "    print(particle_index, infs)\n",
    "    if (pbest_val[infs[1]] < lbest_val[particle_index]) or (pbest_val[infs[0]] < lbest_val[particle_index]): \n",
    "        # print(np.argmin(pbest_val[infs]))\n",
    "        print(f'informant:{infs[np.argmin(pbest_val[infs])]}')\n",
    "        \n",
    "    else:\n",
    "        print(f'Particle {particle_index} is better')\n",
    "        # print(np.argmin(pbest_val[infs]))"
   ]
  },
  {
   "cell_type": "code",
   "execution_count": 120,
   "metadata": {},
   "outputs": [],
   "source": [
    "infy = np.array([18,  0])"
   ]
  },
  {
   "cell_type": "code",
   "execution_count": 104,
   "metadata": {},
   "outputs": [
    {
     "data": {
      "text/plain": [
       "0"
      ]
     },
     "execution_count": 104,
     "metadata": {},
     "output_type": "execute_result"
    }
   ],
   "source": [
    "np.argmin(pbest_val[infy])"
   ]
  },
  {
   "cell_type": "code",
   "execution_count": null,
   "metadata": {},
   "outputs": [],
   "source": []
  }
 ],
 "metadata": {
  "interpreter": {
   "hash": "88826107e3bae598ad72312161f903007a18a2c02ad829b19bfd24aa3e5f71d8"
  },
  "kernelspec": {
   "display_name": "Python 3.10.4 ('env': venv)",
   "language": "python",
   "name": "python3"
  },
  "language_info": {
   "codemirror_mode": {
    "name": "ipython",
    "version": 3
   },
   "file_extension": ".py",
   "mimetype": "text/x-python",
   "name": "python",
   "nbconvert_exporter": "python",
   "pygments_lexer": "ipython3",
   "version": "3.10.4"
  },
  "orig_nbformat": 4
 },
 "nbformat": 4,
 "nbformat_minor": 2
}
